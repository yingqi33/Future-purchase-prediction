{
 "cells": [
  {
   "cell_type": "code",
   "execution_count": 1,
   "metadata": {
    "colab": {},
    "colab_type": "code",
    "id": "EOKesxwrRqwW"
   },
   "outputs": [
    {
     "name": "stderr",
     "output_type": "stream",
     "text": [
      "/Users/yingqi/anaconda3/lib/python3.6/site-packages/matplotlib/__init__.py:886: MatplotlibDeprecationWarning: \n",
      "examples.directory is deprecated; in the future, examples will be found relative to the 'datapath' directory.\n",
      "  \"found relative to the 'datapath' directory.\".format(key))\n"
     ]
    }
   ],
   "source": [
    "import pandas as pd\n",
    "import numpy as np\n",
    "import matplotlib.pyplot as plt \n",
    "plt.rc(\"font\", size=14)\n",
    "\n",
    "# !pip install seaborn\n",
    "import seaborn as sns\n",
    "sns.set(style=\"white\")\n",
    "sns.set(style=\"whitegrid\", color_codes=True)"
   ]
  },
  {
   "cell_type": "markdown",
   "metadata": {
    "colab_type": "text",
    "id": "xUIkGMOQRqwe"
   },
   "source": [
    "# Load data and pre-processing #\n",
    "In our dataset, three variables **('isbuyer','multiple_buy','multiple_visit')** are dummy variables which need to be processed. "
   ]
  },
  {
   "cell_type": "code",
   "execution_count": 3,
   "metadata": {
    "colab": {
     "base_uri": "https://localhost:8080/",
     "height": 71
    },
    "colab_type": "code",
    "id": "ja33ZZ1JRqwf",
    "outputId": "f2614d23-4db3-418b-bdd5-e1efd33eaf1c"
   },
   "outputs": [
    {
     "name": "stdout",
     "output_type": "stream",
     "text": [
      "(38209, 14)\n",
      "['isbuyer', 'buy_freq', 'visit_freq', 'buy_interval', 'sv_interval', 'expected_time_buy', 'expected_time_visit', 'last_buy', 'last_visit', 'multiple_buy', 'multiple_visit', 'uniq_urls', 'num_checkins', 'y_buy']\n"
     ]
    }
   ],
   "source": [
    "data_train = pd.read_csv(\"ads_train.csv\")\n",
    "data_test = pd.read_csv(\"ads_test.csv\")\n",
    "data_train = data_train.iloc[:,1:]\n",
    "data_test = data_test.iloc[:,1:]\n",
    "\n",
    "print(data_train.shape)\n",
    "print(list(data_train.columns))"
   ]
  },
  {
   "cell_type": "code",
   "execution_count": 4,
   "metadata": {
    "colab": {
     "base_uri": "https://localhost:8080/",
     "height": 340
    },
    "colab_type": "code",
    "id": "r16XhE6WgDgL",
    "outputId": "cb1ee5a3-2af2-4449-cb88-6e9f9ab66fec"
   },
   "outputs": [
    {
     "name": "stdout",
     "output_type": "stream",
     "text": [
      "<class 'pandas.core.frame.DataFrame'>\n",
      "RangeIndex: 38209 entries, 0 to 38208\n",
      "Data columns (total 14 columns):\n",
      "isbuyer                38209 non-null int64\n",
      "buy_freq               1620 non-null float64\n",
      "visit_freq             38209 non-null int64\n",
      "buy_interval           38209 non-null float64\n",
      "sv_interval            38209 non-null float64\n",
      "expected_time_buy      38209 non-null float64\n",
      "expected_time_visit    38209 non-null float64\n",
      "last_buy               38209 non-null int64\n",
      "last_visit             38209 non-null int64\n",
      "multiple_buy           38209 non-null int64\n",
      "multiple_visit         38209 non-null int64\n",
      "uniq_urls              38209 non-null int64\n",
      "num_checkins           38209 non-null int64\n",
      "y_buy                  38209 non-null int64\n",
      "dtypes: float64(5), int64(9)\n",
      "memory usage: 4.1 MB\n"
     ]
    }
   ],
   "source": [
    "data_train.info()"
   ]
  },
  {
   "cell_type": "code",
   "execution_count": 5,
   "metadata": {
    "colab": {
     "base_uri": "https://localhost:8080/",
     "height": 34
    },
    "colab_type": "code",
    "id": "3X1WT61KRqwl",
    "outputId": "4bd69132-343d-407e-985c-1d6caa7735ed"
   },
   "outputs": [
    {
     "name": "stdout",
     "output_type": "stream",
     "text": [
      "(38209, 13) (38209,)\n"
     ]
    }
   ],
   "source": [
    "X_train = data_train.iloc[:,:-1].fillna(0)\n",
    "y_train = data_train.iloc[:,-1].fillna(0)\n",
    "print(X_train.shape, y_train.shape)"
   ]
  },
  {
   "cell_type": "code",
   "execution_count": 6,
   "metadata": {
    "colab": {
     "base_uri": "https://localhost:8080/",
     "height": 102
    },
    "colab_type": "code",
    "id": "BS1WV7sARqwp",
    "outputId": "363999d6-3673-4bb1-916c-f424d3a1522e"
   },
   "outputs": [
    {
     "data": {
      "text/plain": [
       "array(['buy_freq', 'visit_freq', 'buy_interval', 'sv_interval',\n",
       "       'expected_time_buy', 'expected_time_visit', 'last_buy',\n",
       "       'last_visit', 'uniq_urls', 'num_checkins', 'isbuyer_0',\n",
       "       'isbuyer_1', 'multiple_buy_0', 'multiple_buy_1',\n",
       "       'multiple_visit_0', 'multiple_visit_1'], dtype=object)"
      ]
     },
     "execution_count": 6,
     "metadata": {
      "tags": []
     },
     "output_type": "execute_result"
    }
   ],
   "source": [
    "# create dummy variables\n",
    "cat_vars=['isbuyer','multiple_buy','multiple_visit']\n",
    "for var in cat_vars:\n",
    "    cat_list='var'+'_'+var\n",
    "    cat_list = pd.get_dummies(X_train[var], prefix=var)\n",
    "    data1=X_train.join(cat_list)\n",
    "    X_train=data1\n",
    "\n",
    "cat_vars=['isbuyer','multiple_buy','multiple_visit']\n",
    "data_vars=X_train.columns.values.tolist()\n",
    "to_keep=[i for i in data_vars if i not in cat_vars]\n",
    "X_train=X_train[to_keep]\n",
    "\n",
    "X_test = data_test.fillna(0)\n",
    "cat_vars=['isbuyer','multiple_buy','multiple_visit']\n",
    "for var in cat_vars:\n",
    "    cat_list='var'+'_'+var\n",
    "    cat_list = pd.get_dummies(X_test[var], prefix=var)\n",
    "    data1=X_test.join(cat_list)\n",
    "    X_test=data1\n",
    "\n",
    "cat_vars=['isbuyer','multiple_buy','multiple_visit']\n",
    "data_vars=X_test.columns.values.tolist()\n",
    "to_keep=[i for i in data_vars if i not in cat_vars]\n",
    "X_test=X_test[to_keep]\n",
    "\n",
    "X_train.columns.values"
   ]
  },
  {
   "cell_type": "markdown",
   "metadata": {
    "colab_type": "text",
    "id": "-4iK594dRqwv"
   },
   "source": [
    "# Exploratory analysis #\n",
    "In the training dataset, the ratio of no purchase performance over purchase is 99.5:0.5. We have imblalanced dataset so I will use SMOTE algorithm to create balanced dataset. Looking into the means of the 13 variables grouped buy different 'y_buy' values, we can find trends:\n",
    "\n",
    "1. 96% percentage of those who didn't make a purchase is not a buyer before. 36.6% percentage of those who made a purchase is a buyer before.\n",
    "\n",
    "2. The cookies which made a purchase has higher average in **buy_frequency, visit frequency, multiple_buy, multiple_visit**, where **multiple_buy** and **multiple_visit** are dummy variables denoting whether it made multiple purchases/visits before. \n",
    "\n",
    "3. The cookies which made a purchase has lower average in **last_buy_time, last_visit_time**. This is reasonable because customers who buy and visit websites more frequently are more likely to make another purchase. \n",
    "\n",
    "4. Surprisingly, the cookies with a purchase also experience an unexpected **uniq_urls, num_checkins**. \n",
    "\n",
    "5. We can notice that the two variables **'expected_time_buy'** and **'expected_time_visit'** have negative values and vary a lot among samples. They may denote the difference between the expected time and actual time to buy or visit."
   ]
  },
  {
   "cell_type": "code",
   "execution_count": 7,
   "metadata": {
    "colab": {
     "base_uri": "https://localhost:8080/",
     "height": 68
    },
    "colab_type": "code",
    "id": "91sdHqc3Rqww",
    "outputId": "5eb0dfca-16e7-4055-f835-c6f0d824f997"
   },
   "outputs": [
    {
     "data": {
      "text/plain": [
       "0    38037\n",
       "1      172\n",
       "Name: y_buy, dtype: int64"
      ]
     },
     "execution_count": 7,
     "metadata": {
      "tags": []
     },
     "output_type": "execute_result"
    }
   ],
   "source": [
    "data_train['y_buy'].value_counts()"
   ]
  },
  {
   "cell_type": "code",
   "execution_count": 8,
   "metadata": {
    "colab": {
     "base_uri": "https://localhost:8080/",
     "height": 416
    },
    "colab_type": "code",
    "id": "czUIg1QDRqw0",
    "outputId": "6601a81b-076f-46ca-86aa-e3b54f6c08f0"
   },
   "outputs": [
    {
     "data": {
      "image/png": "[encoded data removed]",
      "text/plain": [
       "<Figure size 576x396 with 1 Axes>"
      ]
     },
     "metadata": {
      "tags": []
     },
     "output_type": "display_data"
    },
    {
     "name": "stdout",
     "output_type": "stream",
     "text": [
      "percentage of no purchase is 99.54984427752623\n",
      "percentage of purchase 0.4501557224737628\n"
     ]
    },
    {
     "data": {
      "text/plain": [
       "<Figure size 576x396 with 0 Axes>"
      ]
     },
     "metadata": {
      "tags": []
     },
     "output_type": "display_data"
    }
   ],
   "source": [
    "sns.countplot(x = 'y_buy', data = data_train, palette = 'hls')\n",
    "plt.show()\n",
    "plt.savefig('count_y_buy')\n",
    "\n",
    "count_no_buy = len(data_train[data_train['y_buy']==0])\n",
    "count_buy = len(data_train[data_train['y_buy']==1])\n",
    "pct_of_no_buy = count_no_buy/(count_no_buy + count_buy)\n",
    "print(\"percentage of no purchase is\", pct_of_no_buy*100)\n",
    "pct_of_buy = count_buy/(count_no_buy + count_buy)\n",
    "print(\"percentage of purchase\", pct_of_buy*100)"
   ]
  },
  {
   "cell_type": "code",
   "execution_count": 9,
   "metadata": {
    "colab": {
     "base_uri": "https://localhost:8080/",
     "height": 162
    },
    "colab_type": "code",
    "id": "ITRmdj6gRqw9",
    "outputId": "6ff93903-24f3-4268-9139-f1ea69b7687c"
   },
   "outputs": [
    {
     "data": {
      "text/html": [
       "<div>\n",
       "<style scoped>\n",
       "    .dataframe tbody tr th:only-of-type {\n",
       "        vertical-align: middle;\n",
       "    }\n",
       "\n",
       "    .dataframe tbody tr th {\n",
       "        vertical-align: top;\n",
       "    }\n",
       "\n",
       "    .dataframe thead th {\n",
       "        text-align: right;\n",
       "    }\n",
       "</style>\n",
       "<table border=\"1\" class=\"dataframe\">\n",
       "  <thead>\n",
       "    <tr style=\"text-align: right;\">\n",
       "      <th></th>\n",
       "      <th>isbuyer</th>\n",
       "      <th>buy_freq</th>\n",
       "      <th>visit_freq</th>\n",
       "      <th>buy_interval</th>\n",
       "      <th>sv_interval</th>\n",
       "      <th>expected_time_buy</th>\n",
       "      <th>expected_time_visit</th>\n",
       "      <th>last_buy</th>\n",
       "      <th>last_visit</th>\n",
       "      <th>multiple_buy</th>\n",
       "      <th>multiple_visit</th>\n",
       "      <th>uniq_urls</th>\n",
       "      <th>num_checkins</th>\n",
       "    </tr>\n",
       "    <tr>\n",
       "      <th>y_buy</th>\n",
       "      <th></th>\n",
       "      <th></th>\n",
       "      <th></th>\n",
       "      <th></th>\n",
       "      <th></th>\n",
       "      <th></th>\n",
       "      <th></th>\n",
       "      <th></th>\n",
       "      <th></th>\n",
       "      <th></th>\n",
       "      <th></th>\n",
       "      <th></th>\n",
       "      <th></th>\n",
       "    </tr>\n",
       "  </thead>\n",
       "  <tbody>\n",
       "    <tr>\n",
       "      <th>0</th>\n",
       "      <td>0.040934</td>\n",
       "      <td>1.215800</td>\n",
       "      <td>1.843337</td>\n",
       "      <td>0.177045</td>\n",
       "      <td>5.852638</td>\n",
       "      <td>-0.159167</td>\n",
       "      <td>-10.158696</td>\n",
       "      <td>64.858112</td>\n",
       "      <td>64.858112</td>\n",
       "      <td>0.005337</td>\n",
       "      <td>0.275547</td>\n",
       "      <td>86.685464</td>\n",
       "      <td>724.641586</td>\n",
       "    </tr>\n",
       "    <tr>\n",
       "      <th>1</th>\n",
       "      <td>0.366279</td>\n",
       "      <td>1.825397</td>\n",
       "      <td>7.366279</td>\n",
       "      <td>4.701193</td>\n",
       "      <td>7.971977</td>\n",
       "      <td>-3.537766</td>\n",
       "      <td>-5.269058</td>\n",
       "      <td>20.267442</td>\n",
       "      <td>20.267442</td>\n",
       "      <td>0.145349</td>\n",
       "      <td>0.715116</td>\n",
       "      <td>66.505814</td>\n",
       "      <td>545.354651</td>\n",
       "    </tr>\n",
       "  </tbody>\n",
       "</table>\n",
       "</div>"
      ],
      "text/plain": [
       "        isbuyer  buy_freq  visit_freq  buy_interval  sv_interval  \\\n",
       "y_buy                                                              \n",
       "0      0.040934  1.215800    1.843337      0.177045     5.852638   \n",
       "1      0.366279  1.825397    7.366279      4.701193     7.971977   \n",
       "\n",
       "       expected_time_buy  expected_time_visit   last_buy  last_visit  \\\n",
       "y_buy                                                                  \n",
       "0              -0.159167           -10.158696  64.858112   64.858112   \n",
       "1              -3.537766            -5.269058  20.267442   20.267442   \n",
       "\n",
       "       multiple_buy  multiple_visit  uniq_urls  num_checkins  \n",
       "y_buy                                                         \n",
       "0          0.005337        0.275547  86.685464    724.641586  \n",
       "1          0.145349        0.715116  66.505814    545.354651  "
      ]
     },
     "execution_count": 9,
     "metadata": {
      "tags": []
     },
     "output_type": "execute_result"
    }
   ],
   "source": [
    "data_train.groupby('y_buy').mean()"
   ]
  },
  {
   "cell_type": "markdown",
   "metadata": {
    "colab_type": "text",
    "id": "56UPFCcVRqxB"
   },
   "source": [
    "# Train models #\n",
    "The goal is to estimate if a cookie made a purchase during period of interest. The variable \"y_buy\" is binary, leading to a 2-class classification problem based on 13 dependent variables. Here I try different models and compare their performance.\n",
    "\n",
    "Considering that our dataset is imbalanced and we don't have high-dimensional train features, the three methods I choose are: logistic regression, random forest and XGBoost. \n",
    "\n",
    "To assess the accuracy of our model, I split part of our training dataset as testing group. "
   ]
  },
  {
   "cell_type": "code",
   "execution_count": 10,
   "metadata": {
    "colab": {
     "base_uri": "https://localhost:8080/",
     "height": 102
    },
    "colab_type": "code",
    "id": "46jjPMPojfLG",
    "outputId": "4d7d6350-908f-4dd3-e0c1-b54b10974d82"
   },
   "outputs": [
    {
     "name": "stdout",
     "output_type": "stream",
     "text": [
      "length of oversampled data is  57056\n",
      "Number of no purchase in oversampled data 28528\n",
      "Number of purchase 28528\n",
      "Proportion of no purchase data in oversampled data is  0.5\n",
      "Proportion of purchase data in oversampled data is  0.5\n"
     ]
    }
   ],
   "source": [
    "# Use SMOTE to split testing group for model evaluation\n",
    "\n",
    "from sklearn.model_selection import train_test_split\n",
    "from imblearn.over_sampling import SMOTE\n",
    "\n",
    "os = SMOTE(random_state=0)\n",
    "Xtrain, Xtest, ytrain, ytest = train_test_split(X_train, y_train, \\\n",
    "                                            test_size=0.25, random_state=10)\n",
    "columns = Xtrain.columns\n",
    "\n",
    "Xtrain,ytrain = os.fit_sample(Xtrain, ytrain)\n",
    "Xtrain = pd.DataFrame(data=Xtrain,columns=columns)\n",
    "ytrain = pd.DataFrame(data=ytrain,columns=['y_buy'])\n",
    "\n",
    "# # we can Check the numbers of our data\n",
    "print(\"length of oversampled data is \",len(Xtrain))\n",
    "print(\"Number of no purchase in oversampled data\",\\\n",
    "      len(ytrain[ytrain['y_buy']==0]))\n",
    "print(\"Number of purchase\",len(ytrain[ytrain['y_buy']==1]))\n",
    "print(\"Proportion of no purchase data in oversampled data is \",\\\n",
    "      len(ytrain[ytrain['y_buy']==0])/len(ytrain))\n",
    "print(\"Proportion of purchase data in oversampled data is \",\\\n",
    "      len(ytrain[ytrain['y_buy']==1])/len(ytrain))\n"
   ]
  },
  {
   "cell_type": "markdown",
   "metadata": {
    "colab_type": "text",
    "id": "WLmW92gtRqxC"
   },
   "source": [
    "## Logistic regression ##\n",
    "Standardize all independent variables. Tune the parameter C for logistic regression. Parameter C controls the trade-off between model complexity and bias. For small values of C, we increase the regularization strength which will create simple models which avoids overfitting. For big values of C, we low the power of regularization which imples the model is allowed to increase it's complexity, and therefore, overfit the data.\n",
    "\n",
    "After searching through all possible C parameters = [0.001, 0.01, 0.1, 1, 10, 100], we can find that C=0.01 generates better result."
   ]
  },
  {
   "cell_type": "code",
   "execution_count": 0,
   "metadata": {
    "colab": {},
    "colab_type": "code",
    "id": "7UkLBj7VRqxD"
   },
   "outputs": [],
   "source": [
    "from sklearn.preprocessing import StandardScaler\n",
    "scaler = StandardScaler()\n",
    "scaler.fit(Xtrain)\n",
    "Xtrain_scaled = pd.DataFrame(data=scaler.transform(Xtrain),columns=columns)\n",
    "Xtest_scaled = pd.DataFrame(data=scaler.transform(Xtest),columns=columns)\n",
    "X_test_scaled = pd.DataFrame(data=scaler.transform(X_test),columns=columns)\n",
    "\n",
    "# import statsmodels.api as sm\n",
    "# logit_model=sm.Logit(ytrain,Xtrain_scaled)\n",
    "# result=logit_model.fit()\n",
    "# print(result.summary2())"
   ]
  },
  {
   "cell_type": "code",
   "execution_count": 12,
   "metadata": {
    "colab": {
     "base_uri": "https://localhost:8080/",
     "height": 34
    },
    "colab_type": "code",
    "id": "w8YWhK7aRqxO",
    "outputId": "d640911a-3dfc-48c8-f5a0-5510cd92bd55"
   },
   "outputs": [
    {
     "name": "stdout",
     "output_type": "stream",
     "text": [
      "Accuracy of logistic regression classifier on testing set: 85.14%\n"
     ]
    }
   ],
   "source": [
    "from sklearn.linear_model import LogisticRegression\n",
    "\n",
    "# Xtest2_scaled = Xtest_scaled.drop(['multiple_buy_0','multiple_buy_1',\\\n",
    "#                                    'num_checkins'],axis=1)\n",
    "logreg = LogisticRegression(C = 0.01)\n",
    "logreg.fit(Xtrain_scaled, ytrain)\n",
    "y_pred = logreg.predict(Xtest_scaled)\n",
    "score = logreg.score(Xtest_scaled, ytest)\n",
    "print('Accuracy of logistic regression classifier on testing set: %.2f%%'% \\\n",
    "      (score*100))"
   ]
  },
  {
   "cell_type": "markdown",
   "metadata": {
    "colab_type": "text",
    "id": "L_AbkPJXRqxS"
   },
   "source": [
    "### Measure model performance ###\n",
    "\n",
    "Evaluate performance of the model 'logreg' through confusion matrix and ROC curve.\n",
    "\n",
    "1. Consion matrix\n",
    "\n",
    "In testing group, 8100 entries with 'y_buy=0' are correctly classified as 0 and 1409 entries are misclassified as 1. 33 entries with 'y_buy=1' are correctly classified as 1 and 11 entries are misclassified as 0."
   ]
  },
  {
   "cell_type": "code",
   "execution_count": 13,
   "metadata": {
    "colab": {
     "base_uri": "https://localhost:8080/",
     "height": 51
    },
    "colab_type": "code",
    "id": "7ZxNCFAMRqxa",
    "outputId": "17910c43-734c-4a93-a917-ffefeaca5c5e"
   },
   "outputs": [
    {
     "name": "stdout",
     "output_type": "stream",
     "text": [
      "[[8100 1409]\n",
      " [  11   33]]\n"
     ]
    }
   ],
   "source": [
    "from sklearn.metrics import confusion_matrix\n",
    "confusion_matrix = confusion_matrix(ytest, y_pred)\n",
    "print(confusion_matrix)"
   ]
  },
  {
   "cell_type": "markdown",
   "metadata": {
    "colab_type": "text",
    "id": "J1h7vYKoRqxj"
   },
   "source": [
    "2. ROC curve and AUC\n",
    "\n",
    "ROC curve calculates TFR (true positive rate) against FPR (false positive rate) at different threshold settings. AUC calculates the area under the curve.\n",
    "\n",
    "$$Precision = \\frac{\\text{true positive}}{(\\text{true positive} + \\text{false positive})}$$\n",
    "\n",
    "$$Recall = \\frac{\\text{true positive}}{(\\text{true positive} + \\text{false negative})}$$"
   ]
  },
  {
   "cell_type": "code",
   "execution_count": 14,
   "metadata": {
    "colab": {
     "base_uri": "https://localhost:8080/",
     "height": 170
    },
    "colab_type": "code",
    "id": "GFzj7fKKRqxk",
    "outputId": "a0803bb7-5c72-4d2c-b9cb-47fbc99b3d46"
   },
   "outputs": [
    {
     "name": "stdout",
     "output_type": "stream",
     "text": [
      "              precision    recall  f1-score   support\n",
      "\n",
      "           0       1.00      0.85      0.92      9509\n",
      "           1       0.02      0.75      0.04        44\n",
      "\n",
      "   micro avg       0.85      0.85      0.85      9553\n",
      "   macro avg       0.51      0.80      0.48      9553\n",
      "weighted avg       0.99      0.85      0.92      9553\n",
      "\n"
     ]
    }
   ],
   "source": [
    "from sklearn.metrics import classification_report\n",
    "print(classification_report(ytest, y_pred))"
   ]
  },
  {
   "cell_type": "code",
   "execution_count": 15,
   "metadata": {
    "colab": {
     "base_uri": "https://localhost:8080/",
     "height": 376
    },
    "colab_type": "code",
    "id": "81oirS2tRqx4",
    "outputId": "62faeeff-de8d-42a3-fc2e-6e84d35030fb"
   },
   "outputs": [
    {
     "data": {
      "image/png": "[encoded data removed]",
      "text/plain": [
       "<Figure size 576x396 with 1 Axes>"
      ]
     },
     "metadata": {
      "tags": []
     },
     "output_type": "display_data"
    }
   ],
   "source": [
    "from sklearn.metrics import roc_auc_score\n",
    "from sklearn.metrics import roc_curve\n",
    "logit_roc_auc = roc_auc_score(ytest, logreg.predict_proba(Xtest_scaled)[:,1])\n",
    "fpr, tpr, thresholds = roc_curve(ytest, logreg.predict_proba(Xtest_scaled)[:,1])\n",
    "\n",
    "plt.figure()\n",
    "plt.plot(fpr, tpr, label='Logistic Regression (AUC = %0.2f)' % logit_roc_auc)\n",
    "plt.plot([0, 1], [0, 1],'r--')\n",
    "plt.xlim([0.0, 1.0])\n",
    "plt.ylim([0.0, 1.05])\n",
    "plt.xlabel('False Positive Rate')\n",
    "plt.ylabel('True Positive Rate')\n",
    "plt.title('Receiver operating characteristic')\n",
    "plt.legend(loc=\"lower right\")\n",
    "plt.savefig('Log_ROC')\n",
    "plt.show()"
   ]
  },
  {
   "cell_type": "code",
   "execution_count": 16,
   "metadata": {
    "colab": {
     "base_uri": "https://localhost:8080/",
     "height": 393
    },
    "colab_type": "code",
    "id": "3qfDwxlRv7kM",
    "outputId": "ed6f1caf-702b-4d1d-8072-bebb8efa125f"
   },
   "outputs": [
    {
     "name": "stderr",
     "output_type": "stream",
     "text": [
      "No handles with labels found to put in legend.\n"
     ]
    },
    {
     "data": {
      "image/png": "[encoded data removed]",
      "text/plain": [
       "<Figure size 576x396 with 1 Axes>"
      ]
     },
     "metadata": {
      "tags": []
     },
     "output_type": "display_data"
    }
   ],
   "source": [
    "feature_imp = pd.Series(np.abs(logreg.coef_[0]),index=Xtrain.columns)\\\n",
    "                        .sort_values(ascending=False)\n",
    "sns.barplot(x=feature_imp, y=feature_imp.index)\n",
    "# Add labels to your graph\n",
    "plt.xlabel('Feature Importance Score')\n",
    "plt.ylabel('Features')\n",
    "plt.title(\"Visualizing Important Features\")\n",
    "plt.legend()\n",
    "plt.show()"
   ]
  },
  {
   "cell_type": "code",
   "execution_count": 17,
   "metadata": {
    "colab": {
     "base_uri": "https://localhost:8080/",
     "height": 306
    },
    "colab_type": "code",
    "id": "hM90ex8gzBhG",
    "outputId": "c20f7729-4ad2-46a1-a635-9e64c2ee5b7f"
   },
   "outputs": [
    {
     "name": "stdout",
     "output_type": "stream",
     "text": [
      "visit_freq             0.884770\n",
      "multiple_visit_1       0.345961\n",
      "isbuyer_1              0.329758\n",
      "buy_freq               0.206529\n",
      "buy_interval           0.116180\n",
      "expected_time_visit    0.080903\n",
      "multiple_buy_0         0.073263\n",
      "num_checkins           0.070564\n",
      "multiple_buy_1        -0.073263\n",
      "expected_time_buy     -0.097053\n",
      "last_visit            -0.317025\n",
      "last_buy              -0.317025\n",
      "isbuyer_0             -0.329758\n",
      "multiple_visit_0      -0.345961\n",
      "sv_interval           -0.356941\n",
      "uniq_urls             -0.381789\n",
      "dtype: float64\n"
     ]
    }
   ],
   "source": [
    "coef = pd.Series(logreg.coef_[0],index=Xtrain.columns)\\\n",
    "                        .sort_values(ascending=False)\n",
    "print(coef)"
   ]
  },
  {
   "cell_type": "markdown",
   "metadata": {
    "colab_type": "text",
    "id": "zMbBVmfCs6lv"
   },
   "source": [
    "From the confusion matrix and precision-recall value we can tell that, logistic regression reaches 99% weighted precision and 85% weighted recall. It also performs well as shown in the ROC curve with AUC to be 0.89.\n",
    "\n",
    "Variables **'visit_freq', 'multiple_visit_1'** have most significant positive effect on purchase. Variables **'sv_interval','uniq_urls'** have most significant negative effect on purchase. This is reasonable because a customer who visits more often is more likely to make his next purchase. A customer who makes visits with short interval and has fixed, relatively less websites which he visits often is also more likely to make his next purchase."
   ]
  },
  {
   "cell_type": "markdown",
   "metadata": {
    "colab_type": "text",
    "id": "jXmfbqNCRqyY"
   },
   "source": [
    "## Random Forest ##\n",
    "Random forest limits the depth of tree which reduces overfitting problem in decision tree."
   ]
  },
  {
   "cell_type": "code",
   "execution_count": 18,
   "metadata": {
    "colab": {
     "base_uri": "https://localhost:8080/",
     "height": 34
    },
    "colab_type": "code",
    "id": "p9JG0PoKRqyb",
    "outputId": "2292880a-3105-491b-9fe0-9682f9df2ab9"
   },
   "outputs": [
    {
     "name": "stdout",
     "output_type": "stream",
     "text": [
      "Accuracy of random forest tree classifier on testing set: 94.73%\n"
     ]
    }
   ],
   "source": [
    "from sklearn.ensemble import RandomForestClassifier\n",
    "rfc = RandomForestClassifier(n_estimators=200, max_depth=5, \\\n",
    "                             class_weight='balanced')\n",
    "rfc.fit(Xtrain,ytrain)\n",
    "y_pred = rfc.predict(Xtest)\n",
    "score = rfc.score(Xtest, ytest)\n",
    "print('Accuracy of random forest tree classifier on testing set: %.2f%%'%\\\n",
    "      (score*100))"
   ]
  },
  {
   "cell_type": "code",
   "execution_count": 19,
   "metadata": {
    "colab": {
     "base_uri": "https://localhost:8080/",
     "height": 393
    },
    "colab_type": "code",
    "id": "kLCdUrzfzQMb",
    "outputId": "1889d355-2042-4a0e-81f6-3b041a4a6d59"
   },
   "outputs": [
    {
     "name": "stderr",
     "output_type": "stream",
     "text": [
      "No handles with labels found to put in legend.\n"
     ]
    },
    {
     "data": {
      "image/png": "[encoded data removed]",
      "text/plain": [
       "<Figure size 576x396 with 1 Axes>"
      ]
     },
     "metadata": {
      "tags": []
     },
     "output_type": "display_data"
    }
   ],
   "source": [
    "feature_imp = pd.Series(rfc.feature_importances_,index=Xtrain.columns)\\\n",
    "                        .sort_values(ascending=False)\n",
    "sns.barplot(x=feature_imp, y=feature_imp.index)\n",
    "# Add labels to your graph\n",
    "plt.xlabel('Feature Importance Score')\n",
    "plt.ylabel('Features')\n",
    "plt.title(\"Visualizing Important Features\")\n",
    "plt.legend()\n",
    "plt.show()"
   ]
  },
  {
   "cell_type": "markdown",
   "metadata": {
    "colab_type": "text",
    "id": "yTsLFnNxBn9H"
   },
   "source": [
    "### Measure model performance ###"
   ]
  },
  {
   "cell_type": "code",
   "execution_count": 20,
   "metadata": {
    "colab": {
     "base_uri": "https://localhost:8080/",
     "height": 204
    },
    "colab_type": "code",
    "id": "CgBx8YOZBtGE",
    "outputId": "ac2dde6c-3205-4214-f6c3-2d16b72ec85c"
   },
   "outputs": [
    {
     "name": "stdout",
     "output_type": "stream",
     "text": [
      "[[9023  486]\n",
      " [  17   27]]\n",
      "              precision    recall  f1-score   support\n",
      "\n",
      "           0       1.00      0.95      0.97      9509\n",
      "           1       0.05      0.61      0.10        44\n",
      "\n",
      "   micro avg       0.95      0.95      0.95      9553\n",
      "   macro avg       0.53      0.78      0.53      9553\n",
      "weighted avg       0.99      0.95      0.97      9553\n",
      "\n"
     ]
    }
   ],
   "source": [
    "from sklearn.metrics import confusion_matrix\n",
    "from sklearn.metrics import classification_report\n",
    "\n",
    "confusion_matrix = confusion_matrix(ytest, y_pred)\n",
    "print(confusion_matrix)\n",
    "print(classification_report(ytest, y_pred))"
   ]
  },
  {
   "cell_type": "code",
   "execution_count": 21,
   "metadata": {
    "colab": {
     "base_uri": "https://localhost:8080/",
     "height": 376
    },
    "colab_type": "code",
    "id": "z75NNwJyB0F4",
    "outputId": "66adf7de-4efb-4cdb-deb9-9865b924652a"
   },
   "outputs": [
    {
     "data": {
      "image/png": "[encoded data removed]",
      "text/plain": [
       "<Figure size 576x396 with 1 Axes>"
      ]
     },
     "metadata": {
      "tags": []
     },
     "output_type": "display_data"
    }
   ],
   "source": [
    "from sklearn.metrics import roc_auc_score\n",
    "from sklearn.metrics import roc_curve\n",
    "rfc_roc_auc = roc_auc_score(ytest, rfc.predict_proba(Xtest)[:,1])\n",
    "fpr, tpr, thresholds = roc_curve(ytest, rfc.predict_proba(Xtest)[:,1])\n",
    "\n",
    "plt.figure()\n",
    "plt.plot(fpr, tpr, label='Random Forest (AUC = %0.2f)' % rfc_roc_auc)\n",
    "plt.plot([0, 1], [0, 1],'r--')\n",
    "plt.xlim([0.0, 1.0])\n",
    "plt.ylim([0.0, 1.05])\n",
    "plt.xlabel('False Positive Rate')\n",
    "plt.ylabel('True Positive Rate')\n",
    "plt.title('Receiver operating characteristic')\n",
    "plt.legend(loc=\"lower right\")\n",
    "plt.savefig('RFC_ROC')\n",
    "plt.show()"
   ]
  },
  {
   "cell_type": "markdown",
   "metadata": {
    "colab_type": "text",
    "id": "mu4EVP9ALCVD"
   },
   "source": [
    "From the confusion matrix and precision-recall value we can tell that, this trained random forest classifier performs well both in classifying entries with 'y_buy=0' and 'y_buy=1', reaching 99% precision and 95% recall. Its ROC curve approaches left-top and has a large AUC value of 0.90.\n",
    "\n",
    "Variables **'sv_interval', 'multiple_visit', 'visit_freq', 'is_buyer', buy_freq'** have most importance in classification, which is similar to the result of logistic regression. This is reasonable because a customer who buys and visits websites more often is more likely to make his next purchase. "
   ]
  },
  {
   "cell_type": "markdown",
   "metadata": {
    "colab_type": "text",
    "id": "Zw6BCqaVRqy4"
   },
   "source": [
    "## XGBoost ##\n",
    "XGBoost implements the gradient boosting decision tree algorithm. It has quick execution speed and better performance than normal gradient boosting algorithm.\n",
    "\n"
   ]
  },
  {
   "cell_type": "code",
   "execution_count": 22,
   "metadata": {
    "colab": {
     "base_uri": "https://localhost:8080/",
     "height": 34
    },
    "colab_type": "code",
    "id": "Bg_irarIRqy5",
    "outputId": "c3fb6222-b5bf-43fe-b90b-799e395ff72e"
   },
   "outputs": [
    {
     "name": "stdout",
     "output_type": "stream",
     "text": [
      "Accuracy of XGBoost classifier on testing set: 95.60%\n"
     ]
    }
   ],
   "source": [
    "# !pip install xgboost\n",
    "from xgboost import XGBClassifier\n",
    "from sklearn.metrics import accuracy_score\n",
    "\n",
    "xgb = XGBClassifier(learning_rate = 0.01,\n",
    "                    n_estimators = 200,\n",
    "                    max_depth = 5,\n",
    "                    gamma = 1,\n",
    "                    subsample = 0.8,\n",
    "                    colsample_bytree = 0.8)\n",
    "xgb.fit(Xtrain, ytrain)\n",
    "y_pred=xgb.predict(Xtest)\n",
    "accuracy = accuracy_score(ytest, y_pred)\n",
    "print('Accuracy of XGBoost classifier on testing set: %.2f%%'% (accuracy*100))"
   ]
  },
  {
   "cell_type": "markdown",
   "metadata": {
    "colab_type": "text",
    "id": "9yZmsoaKgDhs"
   },
   "source": [
    "### Measure model performance ###"
   ]
  },
  {
   "cell_type": "code",
   "execution_count": 23,
   "metadata": {
    "colab": {
     "base_uri": "https://localhost:8080/",
     "height": 204
    },
    "colab_type": "code",
    "id": "skRFy-WDjEv-",
    "outputId": "06b1f6f8-a0b6-4b55-aeb8-5d4f07f29b0e"
   },
   "outputs": [
    {
     "name": "stdout",
     "output_type": "stream",
     "text": [
      "[[9112  397]\n",
      " [  23   21]]\n",
      "              precision    recall  f1-score   support\n",
      "\n",
      "           0       1.00      0.96      0.98      9509\n",
      "           1       0.05      0.48      0.09        44\n",
      "\n",
      "   micro avg       0.96      0.96      0.96      9553\n",
      "   macro avg       0.52      0.72      0.53      9553\n",
      "weighted avg       0.99      0.96      0.97      9553\n",
      "\n"
     ]
    }
   ],
   "source": [
    "from sklearn.metrics import confusion_matrix\n",
    "from sklearn.metrics import classification_report\n",
    "\n",
    "confusion_matrix = confusion_matrix(ytest, y_pred)\n",
    "print(confusion_matrix)\n",
    "print(classification_report(ytest, y_pred))"
   ]
  },
  {
   "cell_type": "code",
   "execution_count": 24,
   "metadata": {
    "colab": {
     "base_uri": "https://localhost:8080/",
     "height": 376
    },
    "colab_type": "code",
    "id": "sqO0jRVfHgQY",
    "outputId": "9b68d0c3-4b66-48ce-cb96-c7a643b51969"
   },
   "outputs": [
    {
     "data": {
      "image/png": "[encoded data removed]",
      "text/plain": [
       "<Figure size 576x396 with 1 Axes>"
      ]
     },
     "metadata": {
      "tags": []
     },
     "output_type": "display_data"
    }
   ],
   "source": [
    "from sklearn.metrics import roc_auc_score\n",
    "from sklearn.metrics import roc_curve\n",
    "xgb_roc_auc = roc_auc_score(ytest, xgb.predict_proba(Xtest)[:,1])\n",
    "fpr, tpr, thresholds = roc_curve(ytest, xgb.predict_proba(Xtest)[:,1])\n",
    "\n",
    "plt.figure()\n",
    "plt.plot(fpr, tpr, label='XGBoost (AUC = %0.2f)' % xgb_roc_auc)\n",
    "plt.plot([0, 1], [0, 1],'r--')\n",
    "plt.xlim([0.0, 1.0])\n",
    "plt.ylim([0.0, 1.05])\n",
    "plt.xlabel('False Positive Rate')\n",
    "plt.ylabel('True Positive Rate')\n",
    "plt.title('Receiver operating characteristic')\n",
    "plt.legend(loc=\"lower right\")\n",
    "plt.savefig('XGB_ROC')\n",
    "plt.show()"
   ]
  },
  {
   "cell_type": "code",
   "execution_count": 25,
   "metadata": {
    "colab": {
     "base_uri": "https://localhost:8080/",
     "height": 410
    },
    "colab_type": "code",
    "id": "HHjMLBY0XfSt",
    "outputId": "6e5284da-dd74-4d8a-fe8f-8e4bd744f26a"
   },
   "outputs": [
    {
     "name": "stderr",
     "output_type": "stream",
     "text": [
      "No handles with labels found to put in legend.\n"
     ]
    },
    {
     "data": {
      "text/plain": [
       "<matplotlib.legend.Legend at 0x7f0513fe4860>"
      ]
     },
     "execution_count": 25,
     "metadata": {
      "tags": []
     },
     "output_type": "execute_result"
    },
    {
     "data": {
      "image/png": "[encoded data removed]",
      "text/plain": [
       "<Figure size 576x396 with 1 Axes>"
      ]
     },
     "metadata": {
      "tags": []
     },
     "output_type": "display_data"
    }
   ],
   "source": [
    "feature_imp = pd.Series(xgb.feature_importances_,index=Xtrain.columns)\\\n",
    "                        .sort_values(ascending=False)\n",
    "sns.barplot(x=feature_imp, y=feature_imp.index)\n",
    "# Add labels to your graph\n",
    "plt.xlabel('Feature Importance Score')\n",
    "plt.ylabel('Features')\n",
    "plt.title(\"Visualizing Important Features\")\n",
    "plt.legend()"
   ]
  },
  {
   "cell_type": "markdown",
   "metadata": {
    "colab_type": "text",
    "id": "gncBhTZjOm9G"
   },
   "source": [
    "From the confusion matrix and precision-recall value we can tell that, XGBoost reaches 99% weighted precision, 96% weighted recall and high training accuracy of 95.60%. It also has a good shaped ROC curve with AUC to be 0.88. It does well in classifying both 'y_buy=0' and 'y_buy=1' entries.\n",
    "\n",
    "Variables **'num_checkins', 'last_buy', 'visit_freq', 'buy_freq', 'uniq_urls'** have most significant effect on purchase. This result coordinates with the result of logistic regression and random forest in some way. Overall, variables **'visit_freq', 'buy_freq'** are most optimal under three algorithms. This is reasonable because a customer who visits and buys more often is more likely to make his next purchase. "
   ]
  },
  {
   "cell_type": "markdown",
   "metadata": {
    "colab_type": "text",
    "id": "lTKbFDLcxx2b"
   },
   "source": [
    "# Predict labels on test dataset #\n",
    "Here I use the above three ways to predict labels on test dataset. We can compare their performance below."
   ]
  },
  {
   "cell_type": "code",
   "execution_count": 27,
   "metadata": {
    "colab": {
     "base_uri": "https://localhost:8080/",
     "height": 119
    },
    "colab_type": "code",
    "id": "Gijeafyyx5T4",
    "outputId": "45fd0bda-f93a-40a4-ca54-fb1fc768f80d"
   },
   "outputs": [
    {
     "name": "stdout",
     "output_type": "stream",
     "text": [
      "predicted probabilities of future purchase by logistic regression is:14.78%\n",
      "predicted labels of future purchase by logistic regression is:  [0 0 0 ... 1 0 0]\n",
      "predicted probabilities of future purchase by Random Forest is: 5.54%\n",
      "predicted labels of future purchase by Random Forest is:  [0 0 0 ... 1 0 0]\n",
      "predicted probabilities of future purchase by XGBoost is: 4.39%\n",
      "predicted labels of future purchase by XGBoost is:  [0 0 0 ... 1 0 0]\n"
     ]
    }
   ],
   "source": [
    "# 1. logistic regression\n",
    "logpred = logreg.predict(X_test_scaled)\n",
    "logprob = len(logpred[logpred==1])/len(logpred)\n",
    "print(\"predicted probabilities of future purchase by logistic regression is:\\\n",
    "%.2f%%\" % (logprob*100))\n",
    "print(\"predicted labels of future purchase by logistic regression is: \",\\\n",
    "     logpred)\n",
    "\n",
    "# 2. Random Forest\n",
    "rfcpred = rfc.predict(X_test)\n",
    "rfcprob = len(rfcpred[rfcpred==1])/len(rfcpred)\n",
    "print(\"predicted probabilities of future purchase by Random Forest is: %.2f%%\"\\\n",
    "      % (rfcprob*100))\n",
    "print(\"predicted labels of future purchase by Random Forest is: \",rfcpred)\n",
    "\n",
    "\n",
    "# 3. XGBoost\n",
    "xgbpred = xgb.predict(X_test)\n",
    "xgbprob = len(xgbpred[xgbpred==1])/len(xgbpred)\n",
    "print(\"predicted probabilities of future purchase by XGBoost is: %.2f%%\"\\\n",
    "      % (xgbprob*100))\n",
    "print(\"predicted labels of future purchase by XGBoost is: \",xgbpred)\n"
   ]
  }
 ],
 "metadata": {
  "colab": {
   "collapsed_sections": [],
   "name": "update2.ipynb",
   "provenance": [],
   "toc_visible": true,
   "version": "0.3.2"
  },
  "kernelspec": {
   "display_name": "Python 3",
   "language": "python",
   "name": "python3"
  },
  "language_info": {
   "codemirror_mode": {
    "name": "ipython",
    "version": 3
   },
   "file_extension": ".py",
   "mimetype": "text/x-python",
   "name": "python",
   "nbconvert_exporter": "python",
   "pygments_lexer": "ipython3",
   "version": "3.6.8"
  }
 },
 "nbformat": 4,
 "nbformat_minor": 1
}
